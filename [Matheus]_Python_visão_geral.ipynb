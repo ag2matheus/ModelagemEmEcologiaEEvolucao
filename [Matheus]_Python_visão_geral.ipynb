{
  "nbformat": 4,
  "nbformat_minor": 0,
  "metadata": {
    "colab": {
      "provenance": [],
      "include_colab_link": true
    },
    "kernelspec": {
      "name": "python3",
      "display_name": "Python 3"
    },
    "language_info": {
      "name": "python"
    }
  },
  "cells": [
    {
      "cell_type": "markdown",
      "metadata": {
        "id": "view-in-github",
        "colab_type": "text"
      },
      "source": [
        "<a href=\"https://colab.research.google.com/github/ag2matheus/ModelagemEmEcologiaEEvolucao/blob/main/%5BMatheus%5D_Python_vis%C3%A3o_geral.ipynb\" target=\"_parent\"><img src=\"https://colab.research.google.com/assets/colab-badge.svg\" alt=\"Open In Colab\"/></a>"
      ]
    },
    {
      "cell_type": "markdown",
      "metadata": {
        "id": "CkojGpsE7sBz"
      },
      "source": [
        "# Python - uma visão geral\n",
        "\n",
        "A ideia deste tutorial é mostrar a sintaxe de Python, ou seja, como programar as estruturas tradicionais: tipos de variáveis, loops, condições, funções, vetores, e ainda como carregar funções em bibliotecas.\n",
        "\n",
        "Ainda, vamos aprender como usar o ambiente do Jupyter notebook. Siga as instruções e execute cada célula de código!\n",
        "\n",
        "Primeiro passo: clique duas vezes neste texto, e veja que você pode editá-lo!"
      ]
    },
    {
      "cell_type": "markdown",
      "metadata": {
        "id": "oFtzHxr3-DKp"
      },
      "source": [
        "A célula acima, como esta, é uma célula de texto, com alguns recursos de formatação (**negrito**, *itálico*, `fonte monoespaçada` tópicos, títulos, notação matemática em $\\text{LaTeX}$ etc.). Repare que títulos e sub-títulos dão uma estrutura para o documento (índice à esquerda).\n",
        "\n",
        "A próxima célula é de código, e pode ser executada clicando o botão de \"play\" à esquerda, ou usando `ctrl+enter` ou `shift+enter`:"
      ]
    },
    {
      "cell_type": "code",
      "metadata": {
        "id": "18hLCc27APyb",
        "colab": {
          "base_uri": "https://localhost:8080/"
        },
        "outputId": "ad96803e-3c17-40d5-b7bd-07c6acf8b169"
      },
      "source": [
        "# texto após o símbolo de \"hash\" (#) é comentário, não executado\n",
        "1 + 1 # comente aqui"
      ],
      "execution_count": 1,
      "outputs": [
        {
          "output_type": "execute_result",
          "data": {
            "text/plain": [
              "2"
            ]
          },
          "metadata": {},
          "execution_count": 1
        }
      ]
    },
    {
      "cell_type": "markdown",
      "metadata": {
        "id": "JY2M8LWkAzc1"
      },
      "source": [
        "## Aritmética\n",
        "\n",
        "Aritmética é feita da forma usual: **copie cada linha** na célula de código abaixo e veja se funciona como você esperava:\n",
        "\n",
        "```\n",
        "1 + 1   # => 2\n",
        "8 - 1   # => 7\n",
        "10 * 2  # => 20\n",
        "```\n",
        "\n",
        "A divisão, mesmo entre inteiros, sempre gera um ponto flutuante (float):\n",
        "```\n",
        "35 / 5  # => 7.0\n",
        "10 / 3  # => 3.3333333333333335\n",
        "```\n",
        "\n",
        "Se você quiser fazer divisão inteira, precisa usar \"//\" ao invés de \"/\". Ele sempre retorna o menor inteiro, mesmo no caso de números negativos.\n",
        "```\n",
        "5 // 3       # => 1\n",
        "-5 // 3      # => -2\n",
        "5.0 // 3.0   # => 1.0 # works on floats too\n",
        "-5.0 // 3.0  # => -2.0\n",
        "```\n"
      ]
    },
    {
      "cell_type": "code",
      "metadata": {
        "id": "4NBL5aaOAlNg",
        "colab": {
          "base_uri": "https://localhost:8080/"
        },
        "outputId": "9d85e425-8855-4cd4-fe94-db061650a3b2"
      },
      "source": [
        "35 / 5"
      ],
      "execution_count": null,
      "outputs": [
        {
          "output_type": "execute_result",
          "data": {
            "text/plain": [
              "7.0"
            ]
          },
          "metadata": {},
          "execution_count": 63
        }
      ]
    },
    {
      "cell_type": "markdown",
      "metadata": {
        "id": "5JjRpb-zEcqr"
      },
      "source": [
        "Mais um pouco de aritmética:\n",
        "\n",
        "Operação \"módulo\" (resto da divisão inteira):\n",
        "```\n",
        "7 % 3   # => 1\n",
        "```\n",
        "\n",
        "Potência (x elevado a y, $x^y$). Cuidado, o símbolo ^ não funciona! (é usado para outra função em Python)\n",
        "```\n",
        "2**3  # => 8\n",
        "```\n",
        "\n",
        "Use parêntesis para forçar a ordem das operações:\n",
        "```\n",
        "1 + 3 * 2    # => 7\n",
        "(1 + 3) * 2  # => 8\n",
        "```"
      ]
    },
    {
      "cell_type": "code",
      "metadata": {
        "id": "8HnqO_BQEc1b",
        "colab": {
          "base_uri": "https://localhost:8080/"
        },
        "outputId": "76b47f1e-b7f0-4163-9834-6eea92454b98"
      },
      "source": [
        "2**3"
      ],
      "execution_count": null,
      "outputs": [
        {
          "output_type": "execute_result",
          "data": {
            "text/plain": [
              "8"
            ]
          },
          "metadata": {},
          "execution_count": 58
        }
      ]
    },
    {
      "cell_type": "markdown",
      "metadata": {
        "id": "T7OOliaJGug9"
      },
      "source": [
        "## Strings (texto / lista de caracteres)\n",
        "\n",
        "Strings são delimitadas por aspas simples (') ou duplas (\"). Você pode imprimir strings (ou qualquer outro objeto) usando a função `print()`:"
      ]
    },
    {
      "cell_type": "code",
      "metadata": {
        "id": "lDAzAYbBGszf",
        "colab": {
          "base_uri": "https://localhost:8080/"
        },
        "outputId": "e62f9516-644b-4fb1-f115-564643083f20"
      },
      "source": [
        "print(\"Isto é uma string.\")\n",
        "print('Isto também é uma string.')\n",
        "\n",
        "# Strings podem ser somadas, ou seja, concatenadas\n",
        "print(\"Hello \" + \"world!\")  # => \"Hello world!\"\n",
        "\n",
        "# Uma string pode ser tratada como uma lista de caracteres\n",
        "print(\"Hello world!\"[0])  # => 'H'\n",
        "# REPARE: os índices em Python começam em 0, não em 1 (mais sobre isso depois)\n",
        "\n",
        "# Você pode checar o tamanho de uma string usando a função len():\n",
        "print(len(\"This is a string\"))  # => 16"
      ],
      "execution_count": null,
      "outputs": [
        {
          "output_type": "stream",
          "name": "stdout",
          "text": [
            "Isto é uma string.\n",
            "Isto também é uma string.\n",
            "Hello world!\n",
            "H\n",
            "16\n"
          ]
        }
      ]
    },
    {
      "cell_type": "markdown",
      "metadata": {
        "id": "-SFxvVYOIzYa"
      },
      "source": [
        "Você pode formatar uma string colocando variáveis no meio da string usando `f` antes do delimitador inicial, e colocando variáveis entre chaves `{}` dentro da string:"
      ]
    },
    {
      "cell_type": "code",
      "metadata": {
        "id": "v9A3q1w1Jpf7",
        "colab": {
          "base_uri": "https://localhost:8080/"
        },
        "outputId": "827955d8-6cb9-4c0f-da32-9d1981a72168"
      },
      "source": [
        "nome = \"cálculo numérico\"\n",
        "print(f\"Bem-vindo(a) ao curso de {nome}.\") # f-string\n",
        "# Você pode colocar não só variáveis, mas comandos dentro das chaves também:\n",
        "print(f\"'{nome}' tem {len(nome)} caracteres.\")\n",
        "\n",
        "# repare que no código acima, usamos aspas diferentes dentro das aspas.\n",
        "# Se quiséssemos usar o mesmo tipo de aspa, teríamos que escapá-las usando \\:\n",
        "print(\"Escape aspas usando \\\"barra\\\"\")"
      ],
      "execution_count": null,
      "outputs": [
        {
          "output_type": "stream",
          "name": "stdout",
          "text": [
            "Bem-vindo(a) ao curso de cálculo numérico.\n",
            "'cálculo numérico' tem 16 caracteres.\n",
            "Escape aspas usando \"barra\"\n"
          ]
        }
      ]
    },
    {
      "cell_type": "markdown",
      "metadata": {
        "id": "PTgi0F56KK1t"
      },
      "source": [
        "## Variáveis booleanas\n",
        "\n",
        "Em Python, verdadeiro e falso são representados por `True`e `False` (repare na capitalização: não serve `true`!). Os operadores são:\n",
        "* E: `and`\n",
        "* OU: `or`\n",
        "* negação: `not`\n",
        "\n",
        "Tente prever o que deve acontecer em cada linha abaixo antes de rodar:"
      ]
    },
    {
      "cell_type": "code",
      "metadata": {
        "id": "0Q1Va066KLPm",
        "colab": {
          "base_uri": "https://localhost:8080/"
        },
        "outputId": "931608e3-ff32-4831-a329-09d1e92353e3"
      },
      "source": [
        "print(True)\n",
        "print(False)\n",
        "print(True and False)\n",
        "print(True or False)\n",
        "print(not False)\n",
        "print(True and False or True) # tricky?"
      ],
      "execution_count": null,
      "outputs": [
        {
          "output_type": "stream",
          "name": "stdout",
          "text": [
            "True\n"
          ]
        }
      ]
    },
    {
      "cell_type": "markdown",
      "metadata": {
        "id": "GAq0IUxzR8U7"
      },
      "source": [
        "## Comparações\n",
        "\n",
        "Os operadores de comparação são:\n",
        "* Igualdade: `==`\n",
        "* Não igualdade: `!=`\n",
        "* Maior, maior ou igual: `>`, `>=`\n",
        "* Menor, menor ou igual: `<`, `<=`\n",
        "\n",
        "Tente prever o que vai ser impresso em cada linha."
      ]
    },
    {
      "cell_type": "code",
      "metadata": {
        "id": "7MfOdMARThD2",
        "colab": {
          "base_uri": "https://localhost:8080/"
        },
        "outputId": "77ad9133-8294-44a2-d758-8e5723e93fcd"
      },
      "source": [
        "print(1 == 1)\n",
        "print(2 == 1)\n"
      ],
      "execution_count": null,
      "outputs": [
        {
          "output_type": "stream",
          "name": "stdout",
          "text": [
            "True\n",
            "False\n"
          ]
        }
      ]
    },
    {
      "cell_type": "code",
      "source": [
        "print(1 != 1)\n",
        "print(2 != 1)"
      ],
      "metadata": {
        "id": "NEFHJK28chGR",
        "colab": {
          "base_uri": "https://localhost:8080/"
        },
        "outputId": "c061f037-98d9-4a7f-9590-120b0a0ad6db"
      },
      "execution_count": null,
      "outputs": [
        {
          "output_type": "stream",
          "name": "stdout",
          "text": [
            "False\n",
            "True\n"
          ]
        }
      ]
    },
    {
      "cell_type": "code",
      "source": [
        "print(1 < 10)\n",
        "print(1 > 10)\n",
        "print(2 <= 2)\n",
        "print(2 >= 2)"
      ],
      "metadata": {
        "id": "hq4mcTG5chzX",
        "colab": {
          "base_uri": "https://localhost:8080/"
        },
        "outputId": "9aeada03-cbc9-4bf0-e897-f1b2b147cdb1"
      },
      "execution_count": null,
      "outputs": [
        {
          "output_type": "stream",
          "name": "stdout",
          "text": [
            "True\n",
            "False\n",
            "True\n",
            "True\n"
          ]
        }
      ]
    },
    {
      "cell_type": "markdown",
      "metadata": {
        "id": "a6txcVo-T-YV"
      },
      "source": [
        "Podemos ainda \"juntar\" comparações para verificar se um número está num intervalo:"
      ]
    },
    {
      "cell_type": "code",
      "metadata": {
        "id": "dOTcudhiUFw4",
        "colab": {
          "base_uri": "https://localhost:8080/"
        },
        "outputId": "7aa50d0d-a8f9-410b-bfb0-afb8415e3d91"
      },
      "source": [
        "# 2 está entre 1 e 3?\n",
        "print(1 < 2 and 2 < 3)"
      ],
      "execution_count": null,
      "outputs": [
        {
          "output_type": "stream",
          "name": "stdout",
          "text": [
            "True\n"
          ]
        }
      ]
    },
    {
      "cell_type": "code",
      "source": [
        "# e 4?\n",
        "print(1 < 4 and 4 < 2)"
      ],
      "metadata": {
        "id": "d2v3X4O5ck07",
        "colab": {
          "base_uri": "https://localhost:8080/"
        },
        "outputId": "614e4981-d910-4267-a5b3-9deb4ab7cee2"
      },
      "execution_count": null,
      "outputs": [
        {
          "output_type": "stream",
          "name": "stdout",
          "text": [
            "False\n"
          ]
        }
      ]
    },
    {
      "cell_type": "markdown",
      "metadata": {
        "id": "gUUCNGGKVUrB"
      },
      "source": [
        "## Variáveis\n",
        "\n",
        "Em Python, não é necessário declarar variáveis, basta atribuir o valor diretamente."
      ]
    },
    {
      "cell_type": "code",
      "metadata": {
        "id": "Ss0j8l_cVzxc",
        "colab": {
          "base_uri": "https://localhost:8080/"
        },
        "outputId": "9b6530f1-9fbb-4318-c9c6-1c0129a428aa"
      },
      "source": [
        "x = 1\n",
        "print(x)\n",
        "print(f\"O valor de x é {x}\")"
      ],
      "execution_count": null,
      "outputs": [
        {
          "output_type": "stream",
          "name": "stdout",
          "text": [
            "1\n",
            "O valor de x é 1\n"
          ]
        }
      ]
    },
    {
      "cell_type": "markdown",
      "metadata": {
        "id": "AaG8sQZAWFLH"
      },
      "source": [
        "A convenção (não regra de sintaxe!) para nomes de variáveis é usar todas minúsculas, e separar \"palavras\" usando `_`.\n",
        "\n",
        "Para pegarmos entrada do usuário, usamos a função `input()`:"
      ]
    },
    {
      "cell_type": "code",
      "metadata": {
        "id": "9QozWfq_WDGl",
        "colab": {
          "base_uri": "https://localhost:8080/"
        },
        "outputId": "2c862d57-ec6a-43d7-a151-6009c9a99bc7"
      },
      "source": [
        "input_string_var = input(\"Entre algum dado: \")\n",
        "print(input_string_var)"
      ],
      "execution_count": null,
      "outputs": [
        {
          "output_type": "stream",
          "name": "stdout",
          "text": [
            "Entre algum dado: 42\n",
            "42\n"
          ]
        }
      ]
    },
    {
      "cell_type": "markdown",
      "source": [
        "**ATENÇÂO**: em geral **não** usaremos `input` para receber valores. Ao invés disso, vamos escrever *funções* (ver abaixo) que vão receber valores."
      ],
      "metadata": {
        "id": "QCsJw8e-bMqu"
      }
    },
    {
      "cell_type": "markdown",
      "metadata": {
        "id": "6HzknzXrPAID"
      },
      "source": [
        "Um erro comum é tentar acessar uma variável que não foi definida. Nesse caso, acontece um erro, também chamado de \"exceção\". Esse erro aponta em que linha de código houve problema, e o tipo de erro (neste caso, NameError), o que facilita debugar o código."
      ]
    },
    {
      "cell_type": "code",
      "metadata": {
        "id": "cKTfGEDbPOgW",
        "colab": {
          "base_uri": "https://localhost:8080/",
          "height": 175
        },
        "outputId": "79d1ea32-b974-4301-99f3-065b9bc20b9f"
      },
      "source": [
        "print(a)"
      ],
      "execution_count": null,
      "outputs": [
        {
          "output_type": "error",
          "ename": "NameError",
          "evalue": "name 'a' is not defined",
          "traceback": [
            "\u001b[0;31m---------------------------------------------------------------------------\u001b[0m",
            "\u001b[0;31mNameError\u001b[0m                                 Traceback (most recent call last)",
            "\u001b[0;32m<ipython-input-72-bca0e2660b9f>\u001b[0m in \u001b[0;36m<cell line: 1>\u001b[0;34m()\u001b[0m\n\u001b[0;32m----> 1\u001b[0;31m \u001b[0mprint\u001b[0m\u001b[0;34m(\u001b[0m\u001b[0ma\u001b[0m\u001b[0;34m)\u001b[0m\u001b[0;34m\u001b[0m\u001b[0;34m\u001b[0m\u001b[0m\n\u001b[0m",
            "\u001b[0;31mNameError\u001b[0m: name 'a' is not defined"
          ]
        }
      ]
    },
    {
      "cell_type": "markdown",
      "metadata": {
        "id": "hZb5y3-qQEWw"
      },
      "source": [
        "## Listas\n",
        "\n",
        "Listas são o tipo de coleção mais simples, e podem conter outros objetos, inclusive misturando variáveis de tipos distintos. Listas são definidas usando **colchetes** `[]`"
      ]
    },
    {
      "cell_type": "code",
      "metadata": {
        "id": "AS4INsIRQGGa",
        "colab": {
          "base_uri": "https://localhost:8080/"
        },
        "outputId": "d5b6933e-e6d0-4abc-f8ad-259706d3ca1d"
      },
      "source": [
        "# Listas são sequências\n",
        "li = [] # lista vazia\n",
        "print(li)"
      ],
      "execution_count": null,
      "outputs": [
        {
          "output_type": "stream",
          "name": "stdout",
          "text": [
            "[]\n"
          ]
        }
      ]
    },
    {
      "cell_type": "code",
      "source": [
        "# você pode começar com uma lista já preenchida\n",
        "outra_li = [4, 5, 6]\n",
        "print(outra_li)\n",
        "\n",
        "# OU pode ainda ir adicionando objetos um por um usando append()\n",
        "li.append(1)\n",
        "print(li)\n",
        "li.append(2)\n",
        "print(li)\n",
        "li.append(4)\n",
        "print(li)\n",
        "li.append(3)\n",
        "print(li)"
      ],
      "metadata": {
        "id": "dw_BTycecmyF",
        "colab": {
          "base_uri": "https://localhost:8080/"
        },
        "outputId": "770ec310-b797-4dd3-875e-67573ef32cdc"
      },
      "execution_count": null,
      "outputs": [
        {
          "output_type": "stream",
          "name": "stdout",
          "text": [
            "[4, 5, 6]\n",
            "[1]\n",
            "[1, 2]\n",
            "[1, 2, 4]\n",
            "[1, 2, 4, 3]\n"
          ]
        }
      ]
    },
    {
      "cell_type": "code",
      "source": [
        "# Você pode remover o último elemento usando pop()\n",
        "li.pop()\n",
        "print(li)"
      ],
      "metadata": {
        "id": "llEUsdUOcpYu",
        "colab": {
          "base_uri": "https://localhost:8080/"
        },
        "outputId": "64ea85a1-c2d2-4d68-9010-bc55e2e87f2f"
      },
      "execution_count": null,
      "outputs": [
        {
          "output_type": "stream",
          "name": "stdout",
          "text": [
            "[1, 2, 4]\n"
          ]
        }
      ]
    },
    {
      "cell_type": "code",
      "source": [
        "# Assim como uma string, você usa len() pra achar o tamanho da lista\n",
        "print(f\"O tamanho da lista é {len(li)}\")"
      ],
      "metadata": {
        "id": "bn-O-2bncrDN",
        "colab": {
          "base_uri": "https://localhost:8080/"
        },
        "outputId": "d9bddd4a-37b3-4fc7-d5ba-66b7ddbd3da6"
      },
      "execution_count": null,
      "outputs": [
        {
          "output_type": "stream",
          "name": "stdout",
          "text": [
            "O tamanho da lista é 3\n"
          ]
        }
      ]
    },
    {
      "cell_type": "markdown",
      "metadata": {
        "id": "L1_3iGB5RT8P"
      },
      "source": [
        "Em Python, você indexa coleções (listas, vetores etc.) usando colchetes `[]`, com índices começando por **0**, ou seja, o primeiro elemento da lista `li` é `li[0]`, e se a lista tem `n` elementos, o último é o `li[n-1]`.\n",
        "\n",
        "Uma outra forma de acessar os elementos finais é usando índices negativos, que começam a contar pelo final. Então `li[0]` é o primeiro elemento, mas `li[-1]` é o último, `li[-2]` o penúltimo, e assim por diante.\n",
        "\n",
        "Aqui, uma pausa para falar do notebook: no código abaixo, vamos reutilizar o objeto `li` definido acima. Se tentarmos rodar a célula abaixo antes de ter rodado a célula acima, `li` não estará definida e teremos um erro. É importante ter cuidado para que seu código funcione rodando todas as células em ordem. (imagine ter que rodar uma célula no final para definir uma variável usada no início do notebook!)"
      ]
    },
    {
      "cell_type": "code",
      "metadata": {
        "id": "9-yMhiBjRUXI",
        "colab": {
          "base_uri": "https://localhost:8080/"
        },
        "outputId": "6f5409ce-df40-480a-9d41-1974c65641de"
      },
      "source": [
        "# Acessando elementos pelo índice\n",
        "# li foi definida acima!\n",
        "print(li[0])\n",
        "# pegue o último elemento\n",
        "print(li[-1])"
      ],
      "execution_count": null,
      "outputs": [
        {
          "output_type": "stream",
          "name": "stdout",
          "text": [
            "1\n",
            "4\n"
          ]
        }
      ]
    },
    {
      "cell_type": "code",
      "source": [
        "# Tentar acessar um índice inexistente gera um erro: IndexError\n",
        "# descomente a linha abaixo para ver!\n",
        "print(li[4])"
      ],
      "metadata": {
        "id": "Pm0EK21Ecs3F",
        "colab": {
          "base_uri": "https://localhost:8080/",
          "height": 210
        },
        "outputId": "063dc3f1-7c89-4ddb-e1b6-6ee7c29f260d"
      },
      "execution_count": null,
      "outputs": [
        {
          "output_type": "error",
          "ename": "IndexError",
          "evalue": "list index out of range",
          "traceback": [
            "\u001b[0;31m---------------------------------------------------------------------------\u001b[0m",
            "\u001b[0;31mIndexError\u001b[0m                                Traceback (most recent call last)",
            "\u001b[0;32m<ipython-input-78-45b67a91666f>\u001b[0m in \u001b[0;36m<cell line: 3>\u001b[0;34m()\u001b[0m\n\u001b[1;32m      1\u001b[0m \u001b[0;31m# Tentar acessar um índice inexistente gera um erro: IndexError\u001b[0m\u001b[0;34m\u001b[0m\u001b[0;34m\u001b[0m\u001b[0m\n\u001b[1;32m      2\u001b[0m \u001b[0;31m# descomente a linha abaixo para ver!\u001b[0m\u001b[0;34m\u001b[0m\u001b[0;34m\u001b[0m\u001b[0m\n\u001b[0;32m----> 3\u001b[0;31m \u001b[0mprint\u001b[0m\u001b[0;34m(\u001b[0m\u001b[0mli\u001b[0m\u001b[0;34m[\u001b[0m\u001b[0;36m4\u001b[0m\u001b[0;34m]\u001b[0m\u001b[0;34m)\u001b[0m\u001b[0;34m\u001b[0m\u001b[0;34m\u001b[0m\u001b[0m\n\u001b[0m",
            "\u001b[0;31mIndexError\u001b[0m: list index out of range"
          ]
        }
      ]
    },
    {
      "cell_type": "code",
      "source": [
        "# Remova qualquer elemento da lista com \"del\"\n",
        "# del não é uma função, então não precisa de parêntesis!\n",
        "del li[2]\n",
        "print(li)\n",
        "\n",
        "# outro uso do del: apagar variáveis. Lembra quando definimos a variável x?\n",
        "x = 1\n",
        "print(x)\n",
        "del x\n",
        "# o que acontece agora?\n",
        "print(x)\n",
        "# comente a linha acima para seguir em frente!"
      ],
      "metadata": {
        "id": "bv8fVoA5cuIy",
        "colab": {
          "base_uri": "https://localhost:8080/",
          "height": 262
        },
        "outputId": "4c07afcd-21ef-41d4-d68f-6fd0ee7ed24c"
      },
      "execution_count": null,
      "outputs": [
        {
          "output_type": "stream",
          "name": "stdout",
          "text": [
            "[1, 2]\n",
            "1\n"
          ]
        },
        {
          "output_type": "error",
          "ename": "NameError",
          "evalue": "name 'x' is not defined",
          "traceback": [
            "\u001b[0;31m---------------------------------------------------------------------------\u001b[0m",
            "\u001b[0;31mNameError\u001b[0m                                 Traceback (most recent call last)",
            "\u001b[0;32m<ipython-input-79-406daa12242b>\u001b[0m in \u001b[0;36m<cell line: 11>\u001b[0;34m()\u001b[0m\n\u001b[1;32m      9\u001b[0m \u001b[0;32mdel\u001b[0m \u001b[0mx\u001b[0m\u001b[0;34m\u001b[0m\u001b[0;34m\u001b[0m\u001b[0m\n\u001b[1;32m     10\u001b[0m \u001b[0;31m# o que acontece agora?\u001b[0m\u001b[0;34m\u001b[0m\u001b[0;34m\u001b[0m\u001b[0m\n\u001b[0;32m---> 11\u001b[0;31m \u001b[0mprint\u001b[0m\u001b[0;34m(\u001b[0m\u001b[0mx\u001b[0m\u001b[0;34m)\u001b[0m\u001b[0;34m\u001b[0m\u001b[0;34m\u001b[0m\u001b[0m\n\u001b[0m\u001b[1;32m     12\u001b[0m \u001b[0;31m# comente a linha acima para seguir em frente!\u001b[0m\u001b[0;34m\u001b[0m\u001b[0;34m\u001b[0m\u001b[0m\n",
            "\u001b[0;31mNameError\u001b[0m: name 'x' is not defined"
          ]
        }
      ]
    },
    {
      "cell_type": "code",
      "metadata": {
        "id": "wXna-2xVW8W3"
      },
      "source": [
        "# redefinindo li\n",
        "li = [1, 2, 4, 3]"
      ],
      "execution_count": null,
      "outputs": []
    },
    {
      "cell_type": "code",
      "source": [
        "# você pode juntar listas usando soma\n",
        "# as listas originais não são modificadas\n",
        "print(li)\n",
        "print(outra_li)\n",
        "print(li + outra_li)"
      ],
      "metadata": {
        "id": "i_fajIvyczA6",
        "colab": {
          "base_uri": "https://localhost:8080/"
        },
        "outputId": "57c479b4-f7d1-492b-b8fe-3f0ed60faefb"
      },
      "execution_count": null,
      "outputs": [
        {
          "output_type": "stream",
          "name": "stdout",
          "text": [
            "[1, 2, 4, 3]\n",
            "[4, 5, 6]\n",
            "[1, 2, 4, 3, 4, 5, 6]\n"
          ]
        }
      ]
    },
    {
      "cell_type": "code",
      "source": [
        "li.append(outra_li)\n",
        "print(li)"
      ],
      "metadata": {
        "colab": {
          "base_uri": "https://localhost:8080/"
        },
        "id": "w_8_oAQTDV5x",
        "outputId": "aaffdb71-e4dd-4e43-8e30-6f4f7f2cc3ef"
      },
      "execution_count": null,
      "outputs": [
        {
          "output_type": "stream",
          "name": "stdout",
          "text": [
            "[1, 2, 4, 3, 'abc', [4, 5, 6]]\n"
          ]
        }
      ]
    },
    {
      "cell_type": "code",
      "source": [
        "# você pode checar se uma lista contém um certo valor usando in\n",
        "print(7 in li) # verdadeiro ou falso?"
      ],
      "metadata": {
        "id": "CUZUHWi2dIwg",
        "colab": {
          "base_uri": "https://localhost:8080/"
        },
        "outputId": "21103078-2349-47ae-ac4f-d427b234452f"
      },
      "execution_count": null,
      "outputs": [
        {
          "output_type": "stream",
          "name": "stdout",
          "text": [
            "False\n"
          ]
        }
      ]
    },
    {
      "cell_type": "markdown",
      "metadata": {
        "id": "aK7arnINUI0d"
      },
      "source": [
        "### Slices (recortes)\n",
        "\n",
        "Uma outra operação importante com listas (e vetores) são os chamados recortes, ou *slices*, que permitem que você pegue um pedaço de uma lista. A forma mais simples de usar é `li[i:j]`: i é o primeiro índice do pedaço (inclusive), e `j` é o último, **exclusive** - quer dizer, o elemento de índice `j` não entra!"
      ]
    },
    {
      "cell_type": "code",
      "metadata": {
        "id": "VAnvGaoeUJMi",
        "colab": {
          "base_uri": "https://localhost:8080/"
        },
        "outputId": "48afa39c-f676-4d19-81f0-a5d567b2a485"
      },
      "source": [
        "li = 2 * [2, 5, 10] # o que isto faz?!\n",
        "print(li)\n",
        "\n",
        "# O índice inicial é incluído, o índice final é excluído\n",
        "# (em notação matemática, é um intervalo fechado à esquerda e aberto à direita)\n",
        "print(li[1:3])"
      ],
      "execution_count": null,
      "outputs": [
        {
          "output_type": "stream",
          "name": "stdout",
          "text": [
            "[2, 5, 10, 2, 5, 10]\n",
            "[5, 10]\n"
          ]
        }
      ]
    },
    {
      "cell_type": "code",
      "source": [
        "# para pegar todos a partir de um índice, podemos deixar sem o índice final\n",
        "print(li[2:])"
      ],
      "metadata": {
        "id": "dy9WeuHidfsZ",
        "colab": {
          "base_uri": "https://localhost:8080/"
        },
        "outputId": "a2a4aff3-28cd-4a05-87ec-f7f28fbbbaed"
      },
      "execution_count": null,
      "outputs": [
        {
          "output_type": "stream",
          "name": "stdout",
          "text": [
            "[10, 2, 5, 10]\n"
          ]
        }
      ]
    },
    {
      "cell_type": "code",
      "source": [
        "# para pegar todos até um índice, podemos deixar sem o índice inicial\n",
        "print(li[:3])"
      ],
      "metadata": {
        "id": "-DrKyhE1dgfJ",
        "colab": {
          "base_uri": "https://localhost:8080/"
        },
        "outputId": "3db6a3f1-5bb8-4cfe-9265-67422d8ff092"
      },
      "execution_count": null,
      "outputs": [
        {
          "output_type": "stream",
          "name": "stdout",
          "text": [
            "[2, 5, 10]\n"
          ]
        }
      ]
    },
    {
      "cell_type": "code",
      "source": [
        "# podemos tirar apenas os 2 últimos\n",
        "print(li[:-2])"
      ],
      "metadata": {
        "id": "YgL6vrEydhfx",
        "colab": {
          "base_uri": "https://localhost:8080/"
        },
        "outputId": "c67a7ee1-33e3-49ed-e0ee-9af886839368"
      },
      "execution_count": null,
      "outputs": [
        {
          "output_type": "stream",
          "name": "stdout",
          "text": [
            "[2, 5, 10, 2]\n"
          ]
        }
      ]
    },
    {
      "cell_type": "code",
      "source": [
        "# ou ficar apenas com eles\n",
        "print(li[-2:])"
      ],
      "metadata": {
        "id": "bsNW3yX7diXp",
        "colab": {
          "base_uri": "https://localhost:8080/"
        },
        "outputId": "d20dd6fc-36ad-42ee-b263-fc577ce919e5"
      },
      "execution_count": null,
      "outputs": [
        {
          "output_type": "stream",
          "name": "stdout",
          "text": [
            "[5, 10]\n"
          ]
        }
      ]
    },
    {
      "cell_type": "markdown",
      "metadata": {
        "id": "_5kuB2J8bLZq"
      },
      "source": [
        "## Controle de fluxo\n"
      ]
    },
    {
      "cell_type": "markdown",
      "metadata": {
        "id": "avDrMrWVbjgP"
      },
      "source": [
        "\n",
        "### if / else\n",
        "\n",
        "Podemos fazer código que roda apenas se uma certa condição for verdadeira usando `if`. Agora, precisamos aprender algo muito importante sobre Python:\n",
        "\n",
        "\n",
        "> Blocos de código são definidos apenas por **identação** (alinhamento dos espaços à esquerda), não por chaves ou outros caracteres.\n",
        "\n"
      ]
    },
    {
      "cell_type": "code",
      "metadata": {
        "id": "LuSrTZaLczOT"
      },
      "source": [
        "print('teste 1:')\n",
        "if 1 > 2:\n",
        "    print('mentira')\n",
        "print('verdade')\n",
        "print('acabou aqui')"
      ],
      "execution_count": null,
      "outputs": []
    },
    {
      "cell_type": "code",
      "source": [
        "\n",
        "# e se alinharmos verdade também?\n",
        "print('teste 2:')\n",
        "if 1 > 2:\n",
        "    print('mentira')\n",
        "    print('verdade')\n",
        "print('acabou aqui')"
      ],
      "metadata": {
        "id": "1U3GhoePdpBh"
      },
      "execution_count": null,
      "outputs": []
    },
    {
      "cell_type": "code",
      "metadata": {
        "id": "rC_ojSw3dOF7"
      },
      "source": [
        "# vale \"misturar\" o tamanho do recuo da identação?\n",
        "if 1 > 2:\n",
        "    print('mentira')\n",
        "   print('verdade')\n",
        "print('acabou aqui')"
      ],
      "execution_count": null,
      "outputs": []
    },
    {
      "cell_type": "code",
      "metadata": {
        "id": "FOzeGLLidZeE"
      },
      "source": [
        "# e se fosse em 2 if's diferentes?\n",
        "if 1 > 2:\n",
        "     print('mentira')\n",
        "     print('verdade')\n",
        "\n",
        "if 1 > 2:\n",
        "   print('mentira')\n",
        "   print('verdade')\n",
        "\n",
        "print('acabou aqui')"
      ],
      "execution_count": null,
      "outputs": []
    },
    {
      "cell_type": "markdown",
      "metadata": {
        "id": "OlcjEtPBdodm"
      },
      "source": [
        "**Atenção!**\n",
        "\n",
        "Embora seja possível usar quantos espaços quiser, é uma **convenção muito forte** usar sempre **4 espaços**. Espaço mesmo, não tab - por isso no Google Colab, ao apertar a tecla \"Tab\", ele adiciona 4 espaços, não um tab.\n",
        "\n",
        "Um atalho interessante no notebook: se você selecionar várias linhas de uma vez e apertar `Tab`, todas elas serão movidas 4 espaços pra direita. Se apertar `Shift+Tab`, elas serão movidas pra esquerda."
      ]
    },
    {
      "cell_type": "markdown",
      "metadata": {
        "id": "OH_LyaJzeJ9u"
      },
      "source": [
        "Agora, e se tivermos várias condições encadeadas, ou se quisermos executar código pra quando a condição não é satisfeita? Pra isso temos os comandos `elif` (equivalente a um \"else if\") e `else`. Você pode usar qualquer um (ou nenhum, ou ambos) depois de um `if`."
      ]
    },
    {
      "cell_type": "code",
      "metadata": {
        "id": "CLPe8ry17Y0T"
      },
      "source": [
        "# definimos uma variável\n",
        "var = 5\n",
        "\n",
        "if var > 10:\n",
        "    print(\"var é maior que 10.\")\n",
        "elif var < 10:\n",
        "    print(\"var é menor que 10.\")\n",
        "else:\n",
        "    print(\"var é 10 mesmo.\")\n",
        "\n",
        "# agora modifique var acima pra obter cada um dos 3 resultados"
      ],
      "execution_count": null,
      "outputs": []
    },
    {
      "cell_type": "markdown",
      "metadata": {
        "id": "aHjlqGtmfMHG"
      },
      "source": [
        "### Loops: `for`\n",
        "\n",
        "Loops em python sempre iteram sobre listas (ou vetores, ou sequências de forma mais geral). A sintaxe é:\n",
        "```\n",
        "for elemento in lista:\n",
        "    bloco de código usando elemento\n",
        "```"
      ]
    },
    {
      "cell_type": "code",
      "metadata": {
        "id": "nkXnFEl5e-Gr"
      },
      "source": [
        "for animal in [\"cachorro\", \"gato\", \"coelho\"]:\n",
        "    print(f\"{animal} é um mamífero\")"
      ],
      "execution_count": null,
      "outputs": []
    },
    {
      "cell_type": "code",
      "metadata": {
        "id": "1diz8tl6fuWV"
      },
      "source": [
        "# para iterar sobre uma lista de números inteiros (em geral índices de uma\n",
        "# lista), usamos range(n) - vai de 0 até n-1\n",
        "print('loop 1:')\n",
        "for i in range(4):\n",
        "    print(i)\n"
      ],
      "execution_count": null,
      "outputs": []
    },
    {
      "cell_type": "code",
      "source": [
        "# para iterar a partir de um número diferente de 0, use range(a, b):\n",
        "# começa em a (inclusive) e vai até (mas não inclui) b\n",
        "# veja que isto é análogo a como slices funcionam\n",
        "print('loop 2:')\n",
        "for i in range(4, 8):\n",
        "    print(i)\n"
      ],
      "metadata": {
        "id": "rDcSJrVLd3Tw"
      },
      "execution_count": null,
      "outputs": []
    },
    {
      "cell_type": "code",
      "source": [
        "# para iterar em passos diferentes de 1, passamos um terceiro argumento para\n",
        "# range(), assim: range(a, b, passo)\n",
        "print('loop 3:')\n",
        "for i in range(4, 8, 2):\n",
        "    print(i)"
      ],
      "metadata": {
        "id": "xh30G4jkd8Go"
      },
      "execution_count": null,
      "outputs": []
    },
    {
      "cell_type": "code",
      "metadata": {
        "id": "MdscqNNkt8zC"
      },
      "source": [
        "# você ainda pode alterar o loop usando os comandos break (interrompe o loop) e\n",
        "# continue (passa para o próximo elemento do loop sem executar o resto do bloco)\n",
        "print('loop 1:')\n",
        "for i in range(4):\n",
        "    if i == 2:\n",
        "        break\n",
        "    print(i)\n",
        "\n",
        "print('loop 2:')\n",
        "for i in range(4):\n",
        "    if i == 2:\n",
        "        continue\n",
        "    print(i)"
      ],
      "execution_count": null,
      "outputs": []
    },
    {
      "cell_type": "markdown",
      "metadata": {
        "id": "iMVEd_5JhJq8"
      },
      "source": [
        "### Loops: `while`\n",
        "\n",
        "`while` é usado para executar código enquanto uma condição for verdadeira.\n",
        "```\n",
        "while condição:\n",
        "    bloco de código\n",
        "```"
      ]
    },
    {
      "cell_type": "code",
      "metadata": {
        "id": "DyFfTu09gyPS"
      },
      "source": [
        "x = 0\n",
        "while x < 4:\n",
        "    print(x)\n",
        "    x += 1  # atalho para x = x + 1\n",
        "    # x = x + 1 # equivalente"
      ],
      "execution_count": null,
      "outputs": []
    },
    {
      "cell_type": "markdown",
      "metadata": {
        "id": "dnUqn2CBhwQr"
      },
      "source": [
        "Cuidado com os loops!\n",
        "\n",
        "O que acontece se você rodar a célula abaixo?!\n",
        "\n",
        "**Importante:** você pode interromper a execução de uma célula apertando o botão \"stop\" (quadrado à esquerda). Essa opção também fica disponível no menu do topo \"Ambiente de execução > Interromper execução\". O Colaboratory limita o seu tempo de uso da plataforma, então cuidado pra não gastar tudo num loop bobo!"
      ]
    },
    {
      "cell_type": "code",
      "metadata": {
        "id": "iiyx02MGh1TE"
      },
      "source": [
        "x = 0\n",
        "while x + 1 > x:\n",
        "    x += 1\n",
        "print(x)"
      ],
      "execution_count": null,
      "outputs": []
    },
    {
      "cell_type": "markdown",
      "metadata": {
        "id": "onsLRTzEuw8Z"
      },
      "source": [
        "`break` e `continue` também funcionam em loops com `while`."
      ]
    },
    {
      "cell_type": "markdown",
      "metadata": {
        "id": "VFdT3lBliwY9"
      },
      "source": [
        "## Funções\n",
        "\n",
        "Funções são definidas em Python com o comando `def`, assim:\n",
        "```\n",
        "def nome_da_funcao(arg1, arg2, arg3):\n",
        "    \n",
        "    codigo da funcao (pode usar arg1, arg2 e arg3)\n",
        "\n",
        "    return resultado\n",
        "```\n",
        "\n",
        "Note que `return` é um comando, não uma função, então também não precisa de parêntesis."
      ]
    },
    {
      "cell_type": "code",
      "metadata": {
        "id": "CZHSml_Shqhc"
      },
      "source": [
        "def add(x, y):\n",
        "    print(f\"x é {x} e y é {y}\")\n",
        "    return x + y  # retorna a soma usando o comando return\n",
        "\n",
        "# chamando funções com parâmetros\n",
        "print(add(5, 6))"
      ],
      "execution_count": null,
      "outputs": []
    },
    {
      "cell_type": "markdown",
      "metadata": {
        "id": "m4YRcDkHjnyh"
      },
      "source": [
        "Uma das belezas do Python é a flexibilidade na hora de chamar funções. Você pode passar os argumentos na ordem em que foram definidos, sem problema. Mas você também pode usar *os nomes dos argumentos* para passá-los na ordem que desejar."
      ]
    },
    {
      "cell_type": "code",
      "metadata": {
        "id": "jBKDvdF4jkAF"
      },
      "source": [
        "# outra forma de chamada, que não depende da ordem\n",
        "print(add(y=6, x=5))\n",
        "print(add(x=5, y=6))\n",
        "\n",
        "\n",
        "def add3(x, y, z):\n",
        "    print(f\"x é {x}, y é {y}, z é {z}\")\n",
        "    return x + y + z\n",
        "\n",
        "# e você ainda pode misturar! O primeiro argumento foi sem nome, então tem que\n",
        "# ser o x (primeiro argumento da função), mas o y e o z passamos usando o nome\n",
        "print(add3(2, z=4, y=6))"
      ],
      "execution_count": null,
      "outputs": []
    },
    {
      "cell_type": "markdown",
      "metadata": {
        "id": "d0SS6jaaoAkW"
      },
      "source": [
        "### Escopo\n",
        "\n",
        "Este é um conceito mais avançado: o **escopo** de uma função é \"onde\" a função vai buscar as variáveis chamadas, e \"onde\" ela salva as variáveis declaradas ou alteradas.\n",
        "\n",
        "Em Python, uma função tem acesso a variáveis definidas fora dela no momento (no lugar do código) em que foram definidas, mas uma função não consegue definir ou alterar variáveis fora dela (a não ser usando o comando `global`, mas devemos evitar fazer isso).\n",
        "\n",
        "O último exemplo abaixo pode confundir um tanto, e por isso mesmo devemos evitar esse padrão: idealmente, todas as variáveis que usarmos dentro de uma função devem ser definiddas dentro dela, ou recebidas como argumento."
      ]
    },
    {
      "cell_type": "code",
      "metadata": {
        "id": "iqyaLkjHk0b3"
      },
      "source": [
        "# Escopo de funções\n",
        "x = 5\n",
        "\n",
        "def muda_x(y):\n",
        "    # variável local x não é a mesma variável global x\n",
        "    x = y\n",
        "    print(x)\n",
        "\n",
        "def nao_muda_x(y):\n",
        "    print(x)\n",
        "\n",
        "def usa_x_de_fora_e_de_dentro(y):\n",
        "    print(x)\n",
        "    x = y\n",
        "    print(x)\n",
        "\n",
        "# o que vai ser impresso em cada uma? Descomente uma por vez\n",
        "#muda_x(42)\n",
        "#nao_muda_x(42)\n",
        "#usa_x_de_fora_e_de_dentro(42)"
      ],
      "execution_count": null,
      "outputs": []
    },
    {
      "cell_type": "markdown",
      "metadata": {
        "id": "afHvsV1brYF9"
      },
      "source": [
        "## Módulos / bibliotecas\n",
        "\n",
        "Módulos são arquivos de código que contém funções e objetos que podem ser úteis. Python já vem com uma série de módulos padrão, e muitos outros podem ser instalados à parte.\n",
        "\n",
        "A sintaxe para chamar (o termo usado é \"importar\") módulos é\n",
        "```\n",
        "import modulo\n",
        "```"
      ]
    },
    {
      "cell_type": "code",
      "metadata": {
        "id": "WKnS8Vr7pGiD"
      },
      "source": [
        "# não existe uma função raiz quadrada na linguagem básica, mas ela é definida\n",
        "# dentro do módulo math:\n",
        "import math\n",
        "print(math.sqrt(16))\n",
        "# note que você importou \"math\", e sqrt fica dentro de math, então você\n",
        "# chama math.sqrt\n",
        "\n",
        "# você pode importar funções específicas diretamente\n",
        "# agora importamos as funções ceil e floor de dentro de math, então não\n",
        "# precisamos mais usar \"math.ceil\" e \"math.floor\"\n",
        "from math import ceil, floor\n",
        "print(ceil(3.7))\n",
        "print(floor(3.7))\n",
        "\n",
        "# você pode importar *todas* as funções de um módulo\n",
        "# ATENÇÃO: evite fazer isso, porque mais tarde você pode se confundir com qual\n",
        "# função veio de onde\n",
        "from math import *\n",
        "\n",
        "# você pode encurtar o nome do módulo usando um apelido:\n",
        "import math as m\n",
        "print(m.sqrt(16))\n",
        "\n",
        "# neste curso, vamos usar 2 módulos essenciais: numpy e matplotlib\n",
        "# trataremos deles no próximo tutorial"
      ],
      "execution_count": null,
      "outputs": []
    }
  ]
}