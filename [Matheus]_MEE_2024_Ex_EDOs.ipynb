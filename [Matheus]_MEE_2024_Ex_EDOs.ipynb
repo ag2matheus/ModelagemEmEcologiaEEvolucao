{
  "nbformat": 4,
  "nbformat_minor": 0,
  "metadata": {
    "colab": {
      "provenance": [],
      "include_colab_link": true
    },
    "kernelspec": {
      "name": "python3",
      "display_name": "Python 3"
    },
    "language_info": {
      "name": "python"
    }
  },
  "cells": [
    {
      "cell_type": "markdown",
      "metadata": {
        "id": "view-in-github",
        "colab_type": "text"
      },
      "source": [
        "<a href=\"https://colab.research.google.com/github/ag2matheus/ModelagemEmEcologiaEEvolucao/blob/main/%5BMatheus%5D_MEE_2024_Ex_EDOs.ipynb\" target=\"_parent\"><img src=\"https://colab.research.google.com/assets/colab-badge.svg\" alt=\"Open In Colab\"/></a>"
      ]
    },
    {
      "cell_type": "markdown",
      "source": [
        "## Exercício 1: efeito Allee\n",
        "\n",
        "Integre numericamente a EDO abaixo, que modela uma população com efeito Allee:\n",
        "\n",
        "$$\\frac{dN}{dt} = r N \\left(1-\\frac{N}{K}\\right)\\left(\\frac{N}{a}-1\\right) $$\n",
        "\n",
        "onde $K$ é a capacidade de suporte e $a$ é a população mínima viável. **Escolha** valores adequados para os parâmetros.\n",
        "\n",
        "Plote as soluções ao longo do tempo (se possível, todas no mesmo gráfico) para 3 valores diferentes da condição inicial $N(0)$:\n",
        "  * abaixo da população mínima viável\n",
        "  * entre a população mínima viável e a capacidade de suporte\n",
        "  * acima da capacidade de suporte\n",
        "\n",
        "Baseado no que vimos antes, qual deve ser \"a cara\" das soluções?  (desenhe um esboço dos gráficos no papel antes de rodar seu código)."
      ],
      "metadata": {
        "id": "d2hWA3amHilI"
      }
    },
    {
      "cell_type": "code",
      "source": [],
      "metadata": {
        "id": "kpZTays0FtdR"
      },
      "execution_count": null,
      "outputs": []
    },
    {
      "cell_type": "markdown",
      "source": [
        "## Exercício 2: capacidade de suporte sazonal\n",
        "\n",
        "Integre numericamente a equação logística, adaptando-a de tal maneira que a capacidade de suporte $K$ da população varia no tempo, de forma **periódica**.\n",
        "\n",
        "Escolha unidades e parâmetros fixando o período de oscilação em 1 ano, e analise 2 situações:\n",
        "1. $\\frac{1}{r}$ muito menor que 1 ano (a população cresce numa escala de tempo muito mais rápida que a variação em K)\n",
        "2. $\\frac{1}{r}$ é próximo de 1 ano\n",
        "\n",
        "Compare as soluções obtidas com a curva $K(t)$ que você escolheu, e tente explicar as diferenças entre os 2 cenários matematicamente e/ou ecologicamente."
      ],
      "metadata": {
        "id": "YuOYjbjZuZXx"
      }
    },
    {
      "cell_type": "code",
      "source": [],
      "metadata": {
        "id": "RW7Gnd3cGV0c"
      },
      "execution_count": null,
      "outputs": []
    },
    {
      "cell_type": "markdown",
      "source": [
        "## Exercício 3: modelo de competição Lotka-Volterra\n",
        "\n",
        "Integre numericamente as equações do modelo de competição Lotka-Volterra:\n",
        "\n",
        "$$ \\begin{aligned}\n",
        "  \\frac{dN_1}{dt} &= r_1 N_1 \\left( \\frac{K_1 - N_1 - \\alpha N_2}{K_1} \\right) \\\\\n",
        "  \\frac{dN_2}{dt} &= r_2 N_2 \\left( \\frac{K_2 - N_2 - \\beta N_1}{K_2} \\right)\n",
        "\\end{aligned} $$\n",
        "\n",
        "Para cada caso abaixo, plote as soluções ao longo do tempo, e também a solução no espaço de fase.\n",
        "\n",
        "**Escolha** parâmetros e condições iniciais de maneira que:\n",
        "  * apenas a espécie 1 persista (independentemente de condições iniciais)\n",
        "  * apenas a espécie 2 persista (independentemente de condições iniciais)\n",
        "  * as 2 espécies coexistam em equilíbrio estável\n",
        "  * uma persista e exclua a outra, dependendo das condições iniciais. Plote soluções correspondendo aos 2 cenários (1 exclui 2, e 2 exclui 1).\n",
        "\n"
      ],
      "metadata": {
        "id": "hcfmE5-oHpEX"
      }
    },
    {
      "cell_type": "code",
      "source": [],
      "metadata": {
        "id": "vESWBhReHQ-A"
      },
      "execution_count": null,
      "outputs": []
    },
    {
      "cell_type": "markdown",
      "source": [
        "### 3'. Questão extra\n",
        "Existe alguma situação em que o resultado final da competição (as populações para tempo grande) dependem dos valores de $r_1$ e $r_2$? Explique."
      ],
      "metadata": {
        "id": "e2yF6jy4uaHB"
      }
    },
    {
      "cell_type": "code",
      "source": [],
      "metadata": {
        "id": "7XFDtUjOGDJO"
      },
      "execution_count": null,
      "outputs": []
    }
  ]
}